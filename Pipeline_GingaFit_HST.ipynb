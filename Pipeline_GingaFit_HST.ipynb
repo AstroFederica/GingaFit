{
 "cells": [
  {
   "cell_type": "markdown",
   "id": "9cf38712",
   "metadata": {},
   "source": [
    "<img src=\"Logos/Logo1.PNG\" width=\"400\">"
   ]
  },
  {
   "cell_type": "markdown",
   "id": "e24f8501",
   "metadata": {},
   "source": [
    "<span style=\"font-size:1.15em;\">Tutorial to run GingaFit, developed by Federica Tarsitano, federica.tarsitano@unige.ch .</span>"
   ]
  },
  {
   "cell_type": "markdown",
   "id": "f6f8b669",
   "metadata": {},
   "source": [
    "<span style=\"font-size:1.15em;\">To run this script in parallel computing, use the file `pipeline_HST_parallel_script.py` saved in this folder.</span>"
   ]
  },
  {
   "cell_type": "code",
   "execution_count": 5,
   "id": "9904c17d",
   "metadata": {},
   "outputs": [],
   "source": [
    "from Gazou import Gazou\n",
    "import numpy as np\n",
    "from astropy.io import fits\n",
    "import matplotlib.pyplot as plt\n",
    "import os"
   ]
  },
  {
   "cell_type": "markdown",
   "id": "dc666c0d",
   "metadata": {},
   "source": [
    "### 1) Indicate the path to the dataset"
   ]
  },
  {
   "cell_type": "markdown",
   "id": "33e3cf7b",
   "metadata": {},
   "source": [
    "<span style=\"font-size:1.15em;\">This example uses public data from HST.</span>"
   ]
  },
  {
   "cell_type": "code",
   "execution_count": 6,
   "id": "f47cd4de",
   "metadata": {},
   "outputs": [],
   "source": [
    "tile = 'Data/Dataset_HST/acs_I_100001+0210_unrot_sci_20.fits'\n",
    "tile_segmap = 'Data/Dataset_HST/acs_I_100001+0210_unrot_sci_20_segmap.fits'\n",
    "cat = 'Data/Dataset_HST/acs_I_100001+0210_unrot_sci_20_cat.fits'\n",
    "psfcat = 'Data/Dataset_HST/acs_I_100001+0210_unrot_sci_20_psfcat.psf'"
   ]
  },
  {
   "cell_type": "markdown",
   "id": "4034417c",
   "metadata": {},
   "source": [
    "### 2) Indicate the path ot the output folders"
   ]
  },
  {
   "cell_type": "code",
   "execution_count": 7,
   "id": "40e5668f",
   "metadata": {},
   "outputs": [],
   "source": [
    "stamps_folder = 'Output/Stamps_HST/'\n",
    "galfit_folder = 'Output/Galfit_HST/'\n",
    "os.makedirs(stamps_folder, exist_ok = True)\n",
    "os.makedirs(galfit_folder, exist_ok = True)"
   ]
  },
  {
   "cell_type": "markdown",
   "id": "262a9d15",
   "metadata": {},
   "source": [
    "### 3) Make an instance of the main class of GingaFit, Gazou\n",
    "<span style=\"font-size:1.15em;\">Also, indicate the size of the psf-stamps, pixel scale, magnitude zeropoint, exposure time, NCOMBINE (= how may images were stacked to form the input tile) and register them as attributes of the instance.</span>"
   ]
  },
  {
   "cell_type": "code",
   "execution_count": 8,
   "id": "1ee6cf02",
   "metadata": {},
   "outputs": [
    {
     "name": "stdout",
     "output_type": "stream",
     "text": [
      "Creating stamps with mag_zeropoint = 21.8625 , EXPTIME = 1 , NCOMBINE = 16 , pixel scale = 0.03 .\n",
      "Size of the PSF stamp = 49 .\n"
     ]
    }
   ],
   "source": [
    "gazou = Gazou(tile, tile_segmap, cat, psfcat)\n",
    "psf_size, px_scale, mag_zp, exptime, ncombine = 49, 0.03, 21.8625, 1, 16\n",
    "gazou.add_params(psf_size, px_scale, mag_zp, exptime, ncombine)\n",
    "gazou.add_paths(stamps_folder, galfit_folder)"
   ]
  },
  {
   "cell_type": "markdown",
   "id": "bc05d5e8",
   "metadata": {},
   "source": [
    "### 4) Select the target sample "
   ]
  },
  {
   "cell_type": "code",
   "execution_count": 9,
   "id": "2462ef21",
   "metadata": {},
   "outputs": [
    {
     "name": "stdout",
     "output_type": "stream",
     "text": [
      "54\n"
     ]
    }
   ],
   "source": [
    "cat_file = fits.open(cat)\n",
    "catalogue = cat_file[1].data\n",
    "\n",
    "selection = catalogue[catalogue['FLAGS']==0]\n",
    "selection = selection[selection['MAG_AUTO']<19]\n",
    "selection = selection[selection['MAG_AUTO']>13]\n",
    "selection = selection[selection['CLASS_STAR']<=0.9]\n",
    "selection = selection[selection['KRON_RADIUS']*selection['A_IMAGE']>=50]\n",
    "print(len(selection))"
   ]
  },
  {
   "cell_type": "markdown",
   "id": "2c505d74",
   "metadata": {},
   "source": [
    "### 5) Call the function $create\\_stamps$\n",
    "<span style=\"font-size:1.15em;\">This function will manage the creation of the stamps, psf-cutouts, segmentation maps, masks and Galfit-related input files. It will save and organize them in the output folders indicated above at point 2.</span>"
   ]
  },
  {
   "cell_type": "code",
   "execution_count": 10,
   "id": "6c248cbe",
   "metadata": {},
   "outputs": [
    {
     "name": "stdout",
     "output_type": "stream",
     "text": [
      "0\n",
      "1\n",
      "2\n",
      "3\n",
      "4\n",
      "5\n",
      "6\n",
      "7\n",
      "8\n",
      "9\n",
      "10\n",
      "11\n",
      "12\n",
      "13\n",
      "14\n",
      "15\n",
      "16\n",
      "17\n",
      "18\n",
      "19\n",
      "20\n",
      "21\n",
      "22\n",
      "23\n",
      "24\n",
      "25\n",
      "26\n",
      "27\n",
      "28\n",
      "29\n",
      "30\n",
      "31\n",
      "32\n",
      "33\n",
      "34\n",
      "35\n",
      "36\n",
      "37\n",
      "38\n",
      "39\n",
      "40\n",
      "41\n",
      "42\n",
      "43\n",
      "44\n",
      "45\n",
      "46\n",
      "47\n",
      "48\n",
      "49\n",
      "50\n",
      "51\n",
      "52\n",
      "53\n"
     ]
    }
   ],
   "source": [
    "numbers = selection['NUMBER']\n",
    "for k in range(0, len(numbers)):\n",
    "    print(k)\n",
    "    object_id = numbers[k]-1\n",
    "    gazou.create_stamps(object_id)"
   ]
  },
  {
   "cell_type": "markdown",
   "id": "e57d79dc",
   "metadata": {},
   "source": [
    "<img src=\"Logos/Logo2.PNG\" width=\"300\">"
   ]
  },
  {
   "cell_type": "code",
   "execution_count": null,
   "id": "4650449b",
   "metadata": {},
   "outputs": [],
   "source": []
  }
 ],
 "metadata": {
  "kernelspec": {
   "display_name": "Python 3 (ipykernel)",
   "language": "python",
   "name": "python3"
  },
  "language_info": {
   "codemirror_mode": {
    "name": "ipython",
    "version": 3
   },
   "file_extension": ".py",
   "mimetype": "text/x-python",
   "name": "python",
   "nbconvert_exporter": "python",
   "pygments_lexer": "ipython3",
   "version": "3.9.18"
  }
 },
 "nbformat": 4,
 "nbformat_minor": 5
}
