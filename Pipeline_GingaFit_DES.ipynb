{
 "cells": [
  {
   "cell_type": "markdown",
   "id": "af23a4b6",
   "metadata": {},
   "source": [
    "<img src=\"Logos/Logo1.PNG\" width=\"400\">"
   ]
  },
  {
   "cell_type": "markdown",
   "id": "6aed286f",
   "metadata": {},
   "source": [
    "<span style=\"font-size:1.15em;\">Tutorial to run GingaFit, developed by Federica Tarsitano, federica.tarsitano@unige.ch .</span>"
   ]
  },
  {
   "cell_type": "markdown",
   "id": "72c550bd",
   "metadata": {},
   "source": [
    "<span style=\"font-size:1.15em;\">To run this script in parallel computing, use the file `pipeline_DES_parallel_script.py` saved in this folder.</span>"
   ]
  },
  {
   "cell_type": "code",
   "execution_count": 14,
   "id": "9904c17d",
   "metadata": {},
   "outputs": [],
   "source": [
    "from Gazou import Gazou\n",
    "import numpy as np\n",
    "from astropy.io import fits\n",
    "import matplotlib.pyplot as plt\n",
    "import os"
   ]
  },
  {
   "cell_type": "markdown",
   "id": "a8eeda60",
   "metadata": {},
   "source": [
    "### 1) Indicate the path to the dataset"
   ]
  },
  {
   "cell_type": "markdown",
   "id": "668711a7",
   "metadata": {},
   "source": [
    "<span style=\"font-size:1.15em;\">This example uses public data from the Dark Energy Survey.</span>"
   ]
  },
  {
   "cell_type": "code",
   "execution_count": 15,
   "id": "f47cd4de",
   "metadata": {},
   "outputs": [],
   "source": [
    "tile = 'Data/Dataset_DES/DES0008+0043_i.fits'\n",
    "tile_segmap = 'Data/Dataset_DES/DES0008+0043_i_segmap.fits'\n",
    "cat = 'Data/Dataset_DES/DES0008+0043_i_cat.fits'\n",
    "psfcat = 'Data/Dataset_DES/DES0008+0043_i_psfcat.psf'"
   ]
  },
  {
   "cell_type": "markdown",
   "id": "1a752acd",
   "metadata": {},
   "source": [
    "### 2) Indicate the path ot the output folders"
   ]
  },
  {
   "cell_type": "code",
   "execution_count": 16,
   "id": "07332c0d",
   "metadata": {},
   "outputs": [],
   "source": [
    "stamps_folder = 'Output/Stamps_DES/'\n",
    "galfit_folder = 'Output/Galfit_DES/'\n",
    "os.makedirs(stamps_folder, exist_ok = True)\n",
    "os.makedirs(galfit_folder, exist_ok = True)"
   ]
  },
  {
   "cell_type": "markdown",
   "id": "1c1d13b3",
   "metadata": {},
   "source": [
    "### 3) Make an instance of the main class of GingaFit, Gazou\n",
    "<span style=\"font-size:1.15em;\">Also, indicate the size of the psf-stamps, pixel scale, magnitude zeropoint, exposure time, NCOMBINE (= how may images were stacked to form the input tile) and register them as attributes of the instance.</span>"
   ]
  },
  {
   "cell_type": "code",
   "execution_count": 17,
   "id": "1ee6cf02",
   "metadata": {},
   "outputs": [
    {
     "name": "stdout",
     "output_type": "stream",
     "text": [
      "Creating stamps with mag_zeropoint = 30.0 , EXPTIME = 1 , NCOMBINE = 16 , pixel scale = 0.263 .\n",
      "Size of the PSF stamp = 49 .\n"
     ]
    }
   ],
   "source": [
    "gazou = Gazou(tile, tile_segmap, cat, psfcat)\n",
    "psf_size, px_scale, mag_zp, exptime, ncombine = 49, 0.263, 30., 1, 16\n",
    "gazou.add_params(psf_size, px_scale, mag_zp, exptime, ncombine)\n",
    "gazou.add_paths(stamps_folder, galfit_folder)"
   ]
  },
  {
   "cell_type": "markdown",
   "id": "392777f6",
   "metadata": {},
   "source": [
    "### 4) Select the target sample "
   ]
  },
  {
   "cell_type": "code",
   "execution_count": 18,
   "id": "2462ef21",
   "metadata": {},
   "outputs": [
    {
     "name": "stdout",
     "output_type": "stream",
     "text": [
      "15\n"
     ]
    }
   ],
   "source": [
    "cat_file = fits.open(cat)\n",
    "catalogue = cat_file[1].data\n",
    "\n",
    "selection = catalogue[catalogue['FLAGS']==0]\n",
    "selection = selection[selection['MAG_AUTO']<19]\n",
    "selection = selection[selection['MAG_AUTO']>13]\n",
    "selection = selection[selection['CLASS_STAR']<=0.9]\n",
    "selection = selection[selection['KRON_RADIUS']*selection['A_IMAGE']>=50]\n",
    "print(len(selection))"
   ]
  },
  {
   "cell_type": "markdown",
   "id": "91691f1f",
   "metadata": {},
   "source": [
    "### 5) Call the function $create\\_stamps$\n",
    "<span style=\"font-size:1.15em;\">This function will manage the creation of the stamps, psf-cutouts, segmentation maps, masks and Galfit-related input files. It will save and organize them in the output folders indicated above at point 2.</span>"
   ]
  },
  {
   "cell_type": "code",
   "execution_count": 19,
   "id": "6c248cbe",
   "metadata": {},
   "outputs": [
    {
     "name": "stdout",
     "output_type": "stream",
     "text": [
      "0\n",
      "1\n",
      "2\n",
      "3\n",
      "4\n",
      "5\n",
      "6\n",
      "7\n",
      "8\n",
      "9\n",
      "10\n",
      "11\n",
      "12\n",
      "13\n",
      "14\n"
     ]
    }
   ],
   "source": [
    "numbers = selection['NUMBER']\n",
    "for k in range(0, len(numbers)):\n",
    "    print(k)\n",
    "    object_id = numbers[k]-1\n",
    "    gazou.create_stamps(object_id)"
   ]
  },
  {
   "cell_type": "markdown",
   "id": "e57d79dc",
   "metadata": {},
   "source": [
    "<img src=\"Logos/Logo2.PNG\" width=\"300\">"
   ]
  },
  {
   "cell_type": "code",
   "execution_count": null,
   "id": "4650449b",
   "metadata": {},
   "outputs": [],
   "source": []
  }
 ],
 "metadata": {
  "kernelspec": {
   "display_name": "Python 3 (ipykernel)",
   "language": "python",
   "name": "python3"
  },
  "language_info": {
   "codemirror_mode": {
    "name": "ipython",
    "version": 3
   },
   "file_extension": ".py",
   "mimetype": "text/x-python",
   "name": "python",
   "nbconvert_exporter": "python",
   "pygments_lexer": "ipython3",
   "version": "3.9.18"
  }
 },
 "nbformat": 4,
 "nbformat_minor": 5
}
